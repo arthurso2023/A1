{
  "cells": [
    {
      "cell_type": "markdown",
      "metadata": {
        "id": "uQ6wc2HE0pke"
      },
      "source": [
        "# **Lab: Time-Series**\n",
        "\n"
      ]
    },
    {
      "cell_type": "markdown",
      "metadata": {
        "id": "tQgxLRrvjiJb"
      },
      "source": [
        "## Exercise 2: Random Forest\n",
        "\n",
        "We will train a RandomForest model on the same dataset as previously.\n",
        "\n",
        "\n",
        "**Pre-requisites:**\n",
        "- Create a github account (https://github.com/join)\n",
        "- Install git (https://git-scm.com/book/en/v2/Getting-Started-Installing-Git)\n",
        "\n",
        "\n",
        "The steps are:\n",
        "1.   Load Data\n",
        "2.   Train RandomForest model\n",
        "3.   Push changes\n"
      ]
    },
    {
      "cell_type": "markdown",
      "metadata": {
        "id": "P7KRLjcRn2d4"
      },
      "source": [
        "**[1.1]** Go to the folder you created previously `adv_dsi_lab_2`"
      ]
    },
    {
      "cell_type": "code",
      "execution_count": null,
      "metadata": {
        "id": "xBNTTx7UAVCV"
      },
      "outputs": [],
      "source": [
        "# Placeholder for student's code (1 command line)\n",
        "# Task: Go to the folder you created previously adv_dsi_lab_2"
      ]
    },
    {
      "cell_type": "code",
      "execution_count": null,
      "metadata": {
        "id": "hsv0dkk1n7Bg"
      },
      "outputs": [],
      "source": [
        "#Solution:\n",
        "cd ~/Projects/adv_dsi/adv_dsi_lab_2"
      ]
    },
    {
      "cell_type": "markdown",
      "metadata": {
        "id": "jxQRDLu2C6D4"
      },
      "source": [
        "**[1.2]** Create a new git branch called `rf_default`"
      ]
    },
    {
      "cell_type": "code",
      "execution_count": null,
      "metadata": {
        "id": "zBD6K4MXC6rA"
      },
      "outputs": [],
      "source": [
        "git checkout -b rf_default"
      ]
    },
    {
      "cell_type": "markdown",
      "metadata": {
        "id": "bR8U5ATZalkz"
      },
      "source": [
        "Documentation: https://www.atlassian.com/git/tutorials/using-branches/git-checkout"
      ]
    },
    {
      "cell_type": "markdown",
      "metadata": {
        "id": "yTjwF_joDWnE"
      },
      "source": [
        "**[1.3]** Navigate the folder `notebooks` and create a new jupyter notebook called `2_rf_default.ipynb`"
      ]
    },
    {
      "cell_type": "markdown",
      "metadata": {
        "id": "_NCwQQFkU3v5"
      },
      "source": [
        "### 2. Load Data"
      ]
    },
    {
      "cell_type": "markdown",
      "metadata": {
        "id": "4JI0kZJxpkoK"
      },
      "source": [
        "**[2.1]** Import the function you created `load_sets`"
      ]
    },
    {
      "cell_type": "code",
      "execution_count": null,
      "metadata": {
        "id": "85PHb6M7p57j"
      },
      "outputs": [],
      "source": [
        "# Placeholder for student's code (1 line of Python code)\n",
        "# Task: Import the function you created load_sets from src/data/sets"
      ]
    },
    {
      "cell_type": "code",
      "execution_count": null,
      "metadata": {
        "id": "1sXpjWA8pz0q"
      },
      "outputs": [],
      "source": [
        "# Solution\n",
        "def load_sets(path='C:/Users/139076/Desktop/ADSI-2/lab-1/data/processed/', val=False):\n",
        "    \"\"\"Load the different locally save sets\n",
        "\n",
        "    Parameters\n",
        "    ----------\n",
        "    path : str\n",
        "        Path to the folder where the sets are saved (default: '../data/processed/')\n",
        "\n",
        "    Returns\n",
        "    -------\n",
        "    Numpy Array\n",
        "        Features for the training set\n",
        "    Numpy Array\n",
        "        Target for the training set\n",
        "    Numpy Array\n",
        "        Features for the validation set\n",
        "    Numpy Array\n",
        "        Target for the validation set\n",
        "    Numpy Array\n",
        "        Features for the testing set\n",
        "    Numpy Array\n",
        "        Target for the testing set\n",
        "    \"\"\"\n",
        "    import numpy as np\n",
        "    import os.path\n",
        "\n",
        "    X_train = np.load(f'{path}X_train.npy', allow_pickle=True) if os.path.isfile(f'{path}X_train.npy') else None\n",
        "    X_val   = np.load(f'{path}X_val.npy', allow_pickle=True  ) if os.path.isfile(f'{path}X_val.npy')   else None\n",
        "    X_test  = np.load(f'{path}X_test.npy' , allow_pickle=True) if os.path.isfile(f'{path}X_test.npy')  else None\n",
        "    y_train = np.load(f'{path}y_train.npy', allow_pickle=True) if os.path.isfile(f'{path}y_train.npy') else None\n",
        "    y_val   = np.load(f'{path}y_val.npy' , allow_pickle=True ) if os.path.isfile(f'{path}y_val.npy')   else None\n",
        "    y_test  = np.load(f'{path}y_test.npy', allow_pickle=True ) if os.path.isfile(f'{path}y_test.npy')  else None\n",
        "\n",
        "    return X_train, y_train, X_val, y_val, X_test, y_test\n"
      ]
    },
    {
      "cell_type": "markdown",
      "metadata": {
        "id": "R-Zy6Oq8pkuB"
      },
      "source": [
        "**[2.2]** Load the saved sets from `data/processed`"
      ]
    },
    {
      "cell_type": "code",
      "execution_count": null,
      "metadata": {
        "id": "ZresJIasqpgH"
      },
      "outputs": [],
      "source": [
        "# Placeholder for student's code (1 line of Python code)\n",
        "# Task: Load the saved sets from data/processed"
      ]
    },
    {
      "cell_type": "code",
      "execution_count": null,
      "metadata": {
        "id": "Q1iETWjDftMg"
      },
      "outputs": [],
      "source": [
        "#Solution:\n",
        "X_train, y_train, X_val, y_val, X_test, y_test = load_sets(path='../data/processed/')"
      ]
    },
    {
      "cell_type": "markdown",
      "metadata": {
        "id": "K_m-WMllhVqG"
      },
      "source": [
        "# 3. Train Random Forest model"
      ]
    },
    {
      "cell_type": "markdown",
      "metadata": {
        "id": "ImPSPeLcQrS5"
      },
      "source": [
        "**[3.1]** Import the RandomForest module from sklearn"
      ]
    },
    {
      "cell_type": "code",
      "execution_count": null,
      "metadata": {
        "id": "Oqu0mLfnQrZX"
      },
      "outputs": [],
      "source": [
        "# Placeholder for student's code (1 line of Python code)\n",
        "# Task: Import the RandomForest module from sklearn"
      ]
    },
    {
      "cell_type": "code",
      "execution_count": null,
      "metadata": {
        "id": "hh2wmK9wQrcB"
      },
      "outputs": [],
      "source": [
        "# Solution:\n",
        "from sklearn.ensemble import RandomForestRegressor"
      ]
    },
    {
      "cell_type": "markdown",
      "metadata": {
        "id": "m00Ks05tQsJb"
      },
      "source": [
        "**[3.2]** Instantiate the RandomForest class into a variable called rf with random_state=8"
      ]
    },
    {
      "cell_type": "code",
      "execution_count": null,
      "metadata": {
        "id": "x--MSD6_QsRV"
      },
      "outputs": [],
      "source": [
        "# Placeholder for student's code (1 line of code)\n",
        "# Task: instantiate the RandomForest class into a variable called rf"
      ]
    },
    {
      "cell_type": "code",
      "execution_count": null,
      "metadata": {
        "id": "oijeWjaIQsT9"
      },
      "outputs": [],
      "source": [
        "# Solution\n",
        "rf = RandomForestRegressor(random_state=8)"
      ]
    },
    {
      "cell_type": "markdown",
      "metadata": {
        "id": "Ao86WklhRj-F"
      },
      "source": [
        "**[3.3]** Task: Fit the model with the prepared data"
      ]
    },
    {
      "cell_type": "code",
      "execution_count": null,
      "metadata": {
        "id": "lMXMIkJHRkHz"
      },
      "outputs": [],
      "source": [
        "# Placeholder for student's code (1 line of code)\n",
        "# Task: Fit the model with the prepared data"
      ]
    },
    {
      "cell_type": "code",
      "execution_count": null,
      "metadata": {
        "id": "rprce0GGRkKb",
        "outputId": "b10cbb1a-4566-461a-f775-f89b0227e0f7"
      },
      "outputs": [
        {
          "data": {
            "text/plain": [
              "RandomForestRegressor(bootstrap=True, ccp_alpha=0.0, criterion='mse',\n",
              "                      max_depth=None, max_features='auto', max_leaf_nodes=None,\n",
              "                      max_samples=None, min_impurity_decrease=0.0,\n",
              "                      min_impurity_split=None, min_samples_leaf=1,\n",
              "                      min_samples_split=2, min_weight_fraction_leaf=0.0,\n",
              "                      n_estimators=100, n_jobs=None, oob_score=False,\n",
              "                      random_state=8, verbose=0, warm_start=False)"
            ]
          },
          "execution_count": 9,
          "metadata": {
            "tags": []
          },
          "output_type": "execute_result"
        }
      ],
      "source": [
        "# Solution\n",
        "rf.fit(X_train, y_train)"
      ]
    },
    {
      "cell_type": "markdown",
      "metadata": {
        "id": "LZFys_bhRtu-"
      },
      "source": [
        "**[3.4]** Import `dump` from `joblib` and save the fitted model into the folder `models` as a file called `rf_default`"
      ]
    },
    {
      "cell_type": "code",
      "execution_count": null,
      "metadata": {
        "id": "QzHfn9UORt2e"
      },
      "outputs": [],
      "source": [
        "# Placeholder for student's code (2 line of Python code)\n",
        "# Task: Import dump from joblib and save the fitted model into the folder models as a file called rf_default"
      ]
    },
    {
      "cell_type": "code",
      "execution_count": null,
      "metadata": {
        "id": "3Yn_xbLxRt4y",
        "outputId": "fb617008-4ce3-45da-9f24-4be2562e9ee2"
      },
      "outputs": [
        {
          "data": {
            "text/plain": [
              "['../models/rf_default.joblib']"
            ]
          },
          "execution_count": 11,
          "metadata": {
            "tags": []
          },
          "output_type": "execute_result"
        }
      ],
      "source": [
        "# Solution:\n",
        "from joblib import dump\n",
        "\n",
        "dump(rf,  '../models/rf_default.joblib')"
      ]
    },
    {
      "cell_type": "markdown",
      "metadata": {
        "id": "xMvlK3mkfk0Q"
      },
      "source": [
        "**[3.5]** Save the predictions from this model for the training and validation sets into 2 variables called `y_train_preds` and `y_val_preds`\n"
      ]
    },
    {
      "cell_type": "code",
      "execution_count": null,
      "metadata": {
        "id": "xOVFv7mFfk6D"
      },
      "outputs": [],
      "source": [
        "# Placeholder for student's code (2 lines of Python code)\n",
        "# Task: Save the predictions from this model for the training and validation sets into 2 variables called y_train_preds and y_val_preds"
      ]
    },
    {
      "cell_type": "code",
      "execution_count": null,
      "metadata": {
        "id": "BTkCfP4lfk86"
      },
      "outputs": [],
      "source": [
        "# Solution:\n",
        "y_train_preds = rf.predict(X_train)\n",
        "y_val_preds = rf.predict(X_val)"
      ]
    },
    {
      "cell_type": "markdown",
      "metadata": {
        "id": "Y5npD0dOhhzK"
      },
      "source": [
        "**[3.6]** Import `print_reg_perf` from `src/models/performance` and display the RMSE and MAE scores of this baseline model on the training and validation sets"
      ]
    },
    {
      "cell_type": "code",
      "execution_count": null,
      "metadata": {
        "id": "kWGNX_byhh6_"
      },
      "outputs": [],
      "source": [
        "# Placeholder for student's code (3 lines of Python code)\n",
        "# Task: Import print_reg_perf from src/models/performance and display the RMSE and MAE scores of this baseline model on the training and validation sets"
      ]
    },
    {
      "cell_type": "code",
      "execution_count": null,
      "metadata": {
        "id": "lt4gAHbynz07",
        "outputId": "1188cbde-788d-4501-8d1f-48d1a13b19b0"
      },
      "outputs": [
        {
          "name": "stdout",
          "output_type": "stream",
          "text": [
            "RMSE Training: 49.094319563872496\n",
            "MAE Training: 28.843348519362184\n",
            "RMSE Validation: 1047.282041263682\n",
            "MAE Validation: 846.8197260273972\n"
          ]
        }
      ],
      "source": [
        "# Solution\n",
        "from src.models.performance import print_reg_perf\n",
        "\n",
        "print_reg_perf(y_preds=y_train_preds, y_actuals=y_train, set_name='Training')\n",
        "print_reg_perf(y_preds=y_val_preds, y_actuals=y_val, set_name='Validation')"
      ]
    },
    {
      "cell_type": "markdown",
      "metadata": {
        "id": "1yX0Ocg4hcZM"
      },
      "source": [
        "# 4.   Push changes"
      ]
    },
    {
      "cell_type": "markdown",
      "metadata": {
        "id": "3guOKU9gjrmp"
      },
      "source": [
        "**[4.1]** Add you changes to git staging area"
      ]
    },
    {
      "cell_type": "code",
      "execution_count": null,
      "metadata": {
        "id": "lKuRNeqAj0ym"
      },
      "outputs": [],
      "source": [
        "# Placeholder for student's code (1 command line)\n",
        "# Task: Add you changes to git staging area"
      ]
    },
    {
      "cell_type": "code",
      "execution_count": null,
      "metadata": {
        "id": "axcj-jS0jruy"
      },
      "outputs": [],
      "source": [
        "# Solution:\n",
        "git add ."
      ]
    },
    {
      "cell_type": "markdown",
      "metadata": {
        "id": "6nUK2dp_j67X"
      },
      "source": [
        "**[4.2]** Create the snapshot of your repository and add a description"
      ]
    },
    {
      "cell_type": "code",
      "execution_count": null,
      "metadata": {
        "id": "1-M-aS-Ij7EE"
      },
      "outputs": [],
      "source": [
        "# Placeholder for student's code (1 command line)\n",
        "# Task: Create the snapshot of your repository and add a description"
      ]
    },
    {
      "cell_type": "code",
      "execution_count": null,
      "metadata": {
        "id": "zovhzXRxj7Il"
      },
      "outputs": [],
      "source": [
        "# Solution:\n",
        "git commit -m \"randomforest default\""
      ]
    },
    {
      "cell_type": "markdown",
      "metadata": {
        "id": "Y9FciIQZj7nX"
      },
      "source": [
        "**[4.3]** Push your snapshot to Github"
      ]
    },
    {
      "cell_type": "code",
      "execution_count": null,
      "metadata": {
        "id": "IR7i6D5hj7uO"
      },
      "outputs": [],
      "source": [
        "# Placeholder for student's code (1 command line)\n",
        "# Task: Push your snapshot to Github"
      ]
    },
    {
      "cell_type": "code",
      "execution_count": null,
      "metadata": {
        "id": "WaVAgJ4Aj7wi"
      },
      "outputs": [],
      "source": [
        "# Solution:\n",
        "git push"
      ]
    },
    {
      "cell_type": "markdown",
      "metadata": {
        "id": "d7a6bwMniAs1"
      },
      "source": [
        "**[4.4]** Check out to the master branch"
      ]
    },
    {
      "cell_type": "code",
      "execution_count": null,
      "metadata": {
        "id": "eM9v_33XiA1I"
      },
      "outputs": [],
      "source": [
        "# Placeholder for student's code (1 command line)\n",
        "# Task: Check out to the master branch"
      ]
    },
    {
      "cell_type": "code",
      "execution_count": null,
      "metadata": {
        "id": "d6-AI0x7iA4M"
      },
      "outputs": [],
      "source": [
        "# Solution:\n",
        "git checkout master"
      ]
    },
    {
      "cell_type": "markdown",
      "metadata": {
        "id": "v98Ka9kNiBLw"
      },
      "source": [
        "**[4.5]** Pull the latest updates"
      ]
    },
    {
      "cell_type": "code",
      "execution_count": null,
      "metadata": {
        "id": "yNZb1PyEjIOP"
      },
      "outputs": [],
      "source": [
        "# Placeholder for student's code (1 command line)\n",
        "# Task: Pull the latest updates"
      ]
    },
    {
      "cell_type": "code",
      "execution_count": null,
      "metadata": {
        "id": "5TJAEYxPjIRS"
      },
      "outputs": [],
      "source": [
        "git pull"
      ]
    },
    {
      "cell_type": "markdown",
      "metadata": {
        "id": "B4Gn1bDU72Hc"
      },
      "source": [
        "**[4.6]** Check out to the `rf_default` branch\n"
      ]
    },
    {
      "cell_type": "code",
      "execution_count": null,
      "metadata": {
        "id": "QEn0Pd5Z72Ns"
      },
      "outputs": [],
      "source": [
        "# Placeholder for student's code (1 command line)\n",
        "# Task: Merge the branch rf_default"
      ]
    },
    {
      "cell_type": "code",
      "execution_count": null,
      "metadata": {
        "id": "l6gAOP0O72QY"
      },
      "outputs": [],
      "source": [
        "# Solution:\n",
        "git checkout rf_default"
      ]
    },
    {
      "cell_type": "markdown",
      "metadata": {
        "id": "pGd3Xdx-jJDk"
      },
      "source": [
        "**[4.7]** Merge the `master` branch and push your changes\n",
        "\n"
      ]
    },
    {
      "cell_type": "code",
      "execution_count": null,
      "metadata": {
        "id": "aEYg8wauiBUb"
      },
      "outputs": [],
      "source": [
        "# Placeholder for student's code (2 command lines)\n",
        "# Task: Merge the master branch and push your changes"
      ]
    },
    {
      "cell_type": "code",
      "execution_count": null,
      "metadata": {
        "id": "YNZunyVsiBXd"
      },
      "outputs": [],
      "source": [
        "# Solution:\n",
        "checkout master/main\n",
        "git merge master/main\n",
        "git push --set-upstream origin rf_default\n"
      ]
    },
    {
      "cell_type": "markdown",
      "metadata": {
        "id": "I2ZaokUIas_c"
      },
      "source": [
        "Documentation: https://www.atlassian.com/git/tutorials/using-branches/git-merge"
      ]
    },
    {
      "cell_type": "markdown",
      "metadata": {
        "id": "8B98cSvWkB-x"
      },
      "source": [
        "**[4.8]** Go to Github and merge the branch after reviewing the code and fixing any conflict\n",
        "\n",
        "\n"
      ]
    }
  ],
  "metadata": {
    "colab": {
      "provenance": []
    },
    "kernelspec": {
      "display_name": "Python 3 (ipykernel)",
      "language": "python",
      "name": "python3"
    },
    "language_info": {
      "codemirror_mode": {
        "name": "ipython",
        "version": 3
      },
      "file_extension": ".py",
      "mimetype": "text/x-python",
      "name": "python",
      "nbconvert_exporter": "python",
      "pygments_lexer": "ipython3",
      "version": "3.10.9"
    }
  },
  "nbformat": 4,
  "nbformat_minor": 0
}